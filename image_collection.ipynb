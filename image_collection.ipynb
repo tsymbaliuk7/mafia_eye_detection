{
 "cells": [
  {
   "cell_type": "code",
   "execution_count": 1,
   "metadata": {
    "collapsed": true
   },
   "outputs": [
    {
     "name": "stdout",
     "output_type": "stream",
     "text": [
      "Collecting opencv-python\n",
      "  Using cached opencv_python-4.5.5.64-cp36-abi3-win_amd64.whl (35.4 MB)\n",
      "Requirement already satisfied: numpy>=1.17.3 in d:\\anaconda3\\envs\\ai\\lib\\site-packages (from opencv-python) (1.21.2)\n",
      "Installing collected packages: opencv-python\n",
      "Successfully installed opencv-python-4.5.5.64\n"
     ]
    }
   ],
   "source": [
    "!pip install opencv-python"
   ]
  },
  {
   "cell_type": "code",
   "execution_count": 3,
   "outputs": [],
   "source": [
    "# Import Operating System\n",
    "import os"
   ],
   "metadata": {
    "collapsed": false,
    "pycharm": {
     "name": "#%%\n"
    }
   }
  },
  {
   "cell_type": "code",
   "execution_count": 1,
   "outputs": [],
   "source": [
    "labels = ['eye']\n",
    "number_imgs = 5"
   ],
   "metadata": {
    "collapsed": false,
    "pycharm": {
     "name": "#%%\n"
    }
   }
  },
  {
   "cell_type": "code",
   "source": [
    "IMAGES_PATH = os.path.join('Tensorflow', 'workspace', 'images', 'collectedimages')"
   ],
   "metadata": {
    "collapsed": false,
    "pycharm": {
     "name": "#%%\n"
    }
   },
   "execution_count": 4,
   "outputs": []
  },
  {
   "cell_type": "code",
   "execution_count": 5,
   "outputs": [],
   "source": [
    "if not os.path.exists(IMAGES_PATH):\n",
    "    if os.name == 'posix':\n",
    "        !mkdir -p {IMAGES_PATH}\n",
    "    if os.name == 'nt':\n",
    "         !mkdir {IMAGES_PATH}\n",
    "for label in labels:\n",
    "    path = os.path.join(IMAGES_PATH, label)\n",
    "    if not os.path.exists(path):\n",
    "        !mkdir {path}"
   ],
   "metadata": {
    "collapsed": false,
    "pycharm": {
     "name": "#%%\n"
    }
   }
  },
  {
   "cell_type": "code",
   "execution_count": 6,
   "outputs": [
    {
     "name": "stdout",
     "output_type": "stream",
     "text": [
      "Requirement already satisfied: pyqt5 in d:\\anaconda3\\envs\\ai\\lib\\site-packages (5.15.6)\n",
      "Requirement already satisfied: lxml in d:\\anaconda3\\envs\\ai\\lib\\site-packages (4.8.0)\n",
      "Requirement already satisfied: PyQt5-sip<13,>=12.8 in d:\\anaconda3\\envs\\ai\\lib\\site-packages (from pyqt5) (12.10.1)\n",
      "Requirement already satisfied: PyQt5-Qt5>=5.15.2 in d:\\anaconda3\\envs\\ai\\lib\\site-packages (from pyqt5) (5.15.2)\n"
     ]
    }
   ],
   "source": [
    "!pip install --upgrade pyqt5 lxml"
   ],
   "metadata": {
    "collapsed": false,
    "pycharm": {
     "name": "#%%\n"
    }
   }
  },
  {
   "cell_type": "code",
   "execution_count": 5,
   "outputs": [],
   "source": [
    "LABELIMG_PATH = os.path.join('Tensorflow', 'labelimg')"
   ],
   "metadata": {
    "collapsed": false,
    "pycharm": {
     "name": "#%%\n"
    }
   }
  },
  {
   "cell_type": "code",
   "execution_count": 9,
   "outputs": [
    {
     "ename": "NameError",
     "evalue": "name 'LABELIMG_PATH' is not defined",
     "output_type": "error",
     "traceback": [
      "\u001B[1;31m---------------------------------------------------------------------------\u001B[0m",
      "\u001B[1;31mNameError\u001B[0m                                 Traceback (most recent call last)",
      "\u001B[1;32m<ipython-input-9-258fc56f3cae>\u001B[0m in \u001B[0;36m<module>\u001B[1;34m\u001B[0m\n\u001B[1;32m----> 1\u001B[1;33m \u001B[1;32mif\u001B[0m \u001B[1;32mnot\u001B[0m \u001B[0mos\u001B[0m\u001B[1;33m.\u001B[0m\u001B[0mpath\u001B[0m\u001B[1;33m.\u001B[0m\u001B[0mexists\u001B[0m\u001B[1;33m(\u001B[0m\u001B[0mLABELIMG_PATH\u001B[0m\u001B[1;33m)\u001B[0m\u001B[1;33m:\u001B[0m\u001B[1;33m\u001B[0m\u001B[1;33m\u001B[0m\u001B[0m\n\u001B[0m\u001B[0;32m      2\u001B[0m     \u001B[0mget_ipython\u001B[0m\u001B[1;33m(\u001B[0m\u001B[1;33m)\u001B[0m\u001B[1;33m.\u001B[0m\u001B[0msystem\u001B[0m\u001B[1;33m(\u001B[0m\u001B[1;34m'mkdir {LABELIMG_PATH}'\u001B[0m\u001B[1;33m)\u001B[0m\u001B[1;33m\u001B[0m\u001B[1;33m\u001B[0m\u001B[0m\n\u001B[0;32m      3\u001B[0m     \u001B[0mget_ipython\u001B[0m\u001B[1;33m(\u001B[0m\u001B[1;33m)\u001B[0m\u001B[1;33m.\u001B[0m\u001B[0msystem\u001B[0m\u001B[1;33m(\u001B[0m\u001B[1;34m'git clone https://github.com/tzutalin/labelImg {LABELIMG_PATH}'\u001B[0m\u001B[1;33m)\u001B[0m\u001B[1;33m\u001B[0m\u001B[1;33m\u001B[0m\u001B[0m\n\u001B[0;32m      4\u001B[0m \u001B[1;33m\u001B[0m\u001B[0m\n",
      "\u001B[1;31mNameError\u001B[0m: name 'LABELIMG_PATH' is not defined"
     ]
    }
   ],
   "source": [
    "if not os.path.exists(LABELIMG_PATH):\n",
    "    !mkdir {LABELIMG_PATH}\n",
    "    !git clone https://github.com/tzutalin/labelImg {LABELIMG_PATH}"
   ],
   "metadata": {
    "collapsed": false,
    "pycharm": {
     "name": "#%%\n"
    }
   }
  },
  {
   "cell_type": "code",
   "execution_count": 11,
   "outputs": [],
   "source": [
    "if os.name == 'posix':\n",
    "    !make qt5py3\n",
    "if os.name =='nt':\n",
    "    !cd {LABELIMG_PATH} && pyrcc5 -o libs/resources.py resources.qrc"
   ],
   "metadata": {
    "collapsed": false,
    "pycharm": {
     "name": "#%%\n"
    }
   }
  },
  {
   "cell_type": "code",
   "execution_count": 9,
   "outputs": [
    {
     "name": "stdout",
     "output_type": "stream",
     "text": [
      "Image:C:\\Users\\Dima\\PycharmProjects\\ai\\Tensorflow\\workspace\\images\\collectedimages\\eye\\WIN_20220419_17_23_12_Pro.jpg -> Annotation:C:/Users/Dima/PycharmProjects/ai/Tensorflow/workspace/images/collectedimages/eye/WIN_20220419_17_23_12_Pro.xml\n",
      "Image:C:\\Users\\Dima\\PycharmProjects\\ai\\Tensorflow\\workspace\\images\\collectedimages\\eye\\WIN_20220419_17_22_33_Pro.jpg -> Annotation:C:/Users/Dima/PycharmProjects/ai/Tensorflow/workspace/images/collectedimages/eye/WIN_20220419_17_22_33_Pro.xml\n",
      "Image:C:\\Users\\Dima\\PycharmProjects\\ai\\Tensorflow\\workspace\\images\\collectedimages\\eye\\WIN_20220419_17_22_29_Pro.jpg -> Annotation:C:/Users/Dima/PycharmProjects/ai/Tensorflow/workspace/images/collectedimages/eye/WIN_20220419_17_22_29_Pro.xml\n",
      "Image:C:\\Users\\Dima\\PycharmProjects\\ai\\Tensorflow\\workspace\\images\\collectedimages\\eye\\WIN_20220419_17_22_27_Pro.jpg -> Annotation:C:/Users/Dima/PycharmProjects/ai/Tensorflow/workspace/images/collectedimages/eye/WIN_20220419_17_22_27_Pro.xml\n",
      "Image:C:\\Users\\Dima\\PycharmProjects\\ai\\Tensorflow\\workspace\\images\\collectedimages\\eye\\WIN_20220419_17_19_31_Pro.jpg -> Annotation:C:/Users/Dima/PycharmProjects/ai/Tensorflow/workspace/images/collectedimages/eye/WIN_20220419_17_19_31_Pro.xml\n",
      "Image:C:\\Users\\Dima\\PycharmProjects\\ai\\Tensorflow\\workspace\\images\\collectedimages\\eye\\WIN_20220419_17_19_28_Pro.jpg -> Annotation:C:/Users/Dima/PycharmProjects/ai/Tensorflow/workspace/images/collectedimages/eye/WIN_20220419_17_19_28_Pro.xml\n",
      "Image:C:\\Users\\Dima\\PycharmProjects\\ai\\Tensorflow\\workspace\\images\\collectedimages\\eye\\WIN_20220419_17_19_22_Pro.jpg -> Annotation:C:/Users/Dima/PycharmProjects/ai/Tensorflow/workspace/images/collectedimages/eye/WIN_20220419_17_19_22_Pro.xml\n",
      "Image:C:\\Users\\Dima\\PycharmProjects\\ai\\Tensorflow\\workspace\\images\\collectedimages\\eye\\WIN_20220419_17_19_16_Pro.jpg -> Annotation:C:/Users/Dima/PycharmProjects/ai/Tensorflow/workspace/images/collectedimages/eye/WIN_20220419_17_19_16_Pro.xml\n",
      "Image:C:\\Users\\Dima\\PycharmProjects\\ai\\Tensorflow\\workspace\\images\\collectedimages\\eye\\WIN_20180915_23_14_43_Pro.jpg -> Annotation:C:/Users/Dima/PycharmProjects/ai/Tensorflow/workspace/images/collectedimages/eye/WIN_20180915_23_14_43_Pro.xml\n",
      "Image:C:\\Users\\Dima\\PycharmProjects\\ai\\Tensorflow\\workspace\\images\\collectedimages\\eye\\363398715_adad301a28_132_47635335@N00.jpg -> Annotation:C:/Users/Dima/PycharmProjects/ai/Tensorflow/workspace/images/collectedimages/eye/363398715_adad301a28_132_47635335@N00.xml\n",
      "Cancel creation.\n",
      "Image:C:\\Users\\Dima\\PycharmProjects\\ai\\Tensorflow\\workspace\\images\\collectedimages\\eye\\WIN_20220419_17_30_46_Pro.jpg -> Annotation:C:/Users/Dima/PycharmProjects/ai/Tensorflow/workspace/images/collectedimages/eye/WIN_20220419_17_30_46_Pro.xml\n",
      "Image:C:\\Users\\Dima\\PycharmProjects\\ai\\Tensorflow\\workspace\\images\\collectedimages\\eye\\WIN_20220419_17_30_42_Pro.jpg -> Annotation:C:/Users/Dima/PycharmProjects/ai/Tensorflow/workspace/images/collectedimages/eye/WIN_20220419_17_30_42_Pro.xml\n",
      "Image:C:\\Users\\Dima\\PycharmProjects\\ai\\Tensorflow\\workspace\\images\\collectedimages\\eye\\WIN_20220419_17_30_30_Pro.jpg -> Annotation:C:/Users/Dima/PycharmProjects/ai/Tensorflow/workspace/images/collectedimages/eye/WIN_20220419_17_30_30_Pro.xml\n",
      "Image:C:\\Users\\Dima\\PycharmProjects\\ai\\Tensorflow\\workspace\\images\\collectedimages\\eye\\WIN_20220419_17_30_10_Pro.jpg -> Annotation:C:/Users/Dima/PycharmProjects/ai/Tensorflow/workspace/images/collectedimages/eye/WIN_20220419_17_30_10_Pro.xml\n",
      "Image:C:\\Users\\Dima\\PycharmProjects\\ai\\Tensorflow\\workspace\\images\\collectedimages\\eye\\WIN_20220419_17_29_54_Pro.jpg -> Annotation:C:/Users/Dima/PycharmProjects/ai/Tensorflow/workspace/images/collectedimages/eye/WIN_20220419_17_29_54_Pro.xml\n",
      "Image:C:\\Users\\Dima\\PycharmProjects\\ai\\Tensorflow\\workspace\\images\\collectedimages\\eye\\WIN_20220419_17_29_48_Pro.jpg -> Annotation:C:/Users/Dima/PycharmProjects/ai/Tensorflow/workspace/images/collectedimages/eye/WIN_20220419_17_29_48_Pro.xml\n"
     ]
    }
   ],
   "source": [
    "!cd {LABELIMG_PATH} && python labelImg.py"
   ],
   "metadata": {
    "collapsed": false,
    "pycharm": {
     "name": "#%%\n"
    }
   }
  },
  {
   "cell_type": "code",
   "execution_count": 6,
   "outputs": [],
   "source": [
    "TRAIN_PATH = os.path.join('Tensorflow', 'workspace', 'images', 'train')\n",
    "TEST_PATH = os.path.join('Tensorflow', 'workspace', 'images', 'test')\n",
    "ARCHIVE_PATH = os.path.join('Tensorflow', 'workspace', 'images', 'archive.tar.gz')"
   ],
   "metadata": {
    "collapsed": false,
    "pycharm": {
     "name": "#%%\n"
    }
   }
  },
  {
   "cell_type": "code",
   "execution_count": 7,
   "outputs": [],
   "source": [
    "!tar -czf {ARCHIVE_PATH} {TRAIN_PATH} {TEST_PATH}"
   ],
   "metadata": {
    "collapsed": false,
    "pycharm": {
     "name": "#%%\n"
    }
   }
  }
 ],
 "metadata": {
  "kernelspec": {
   "display_name": "Python 3",
   "language": "python",
   "name": "python3"
  },
  "language_info": {
   "codemirror_mode": {
    "name": "ipython",
    "version": 2
   },
   "file_extension": ".py",
   "mimetype": "text/x-python",
   "name": "python",
   "nbconvert_exporter": "python",
   "pygments_lexer": "ipython2",
   "version": "2.7.6"
  }
 },
 "nbformat": 4,
 "nbformat_minor": 0
}